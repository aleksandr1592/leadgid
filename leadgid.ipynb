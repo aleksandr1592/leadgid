{
 "cells": [
  {
   "cell_type": "code",
   "execution_count": 104,
   "metadata": {},
   "outputs": [],
   "source": [
    "import pandas as pd\n",
    "pd.set_option('display.max_rows', 500)"
   ]
  },
  {
   "cell_type": "code",
   "execution_count": 2,
   "metadata": {},
   "outputs": [],
   "source": [
    "df = pd.read_csv('data.csv')"
   ]
  },
  {
   "cell_type": "markdown",
   "metadata": {},
   "source": [
    "# 1. Общий анализ таблицы"
   ]
  },
  {
   "cell_type": "code",
   "execution_count": 3,
   "metadata": {},
   "outputs": [
    {
     "data": {
      "text/plain": [
       "(1000000, 13)"
      ]
     },
     "execution_count": 3,
     "metadata": {},
     "output_type": "execute_result"
    }
   ],
   "source": [
    "df.shape"
   ]
  },
  {
   "cell_type": "code",
   "execution_count": 4,
   "metadata": {},
   "outputs": [
    {
     "data": {
      "text/html": [
       "<div>\n",
       "<style scoped>\n",
       "    .dataframe tbody tr th:only-of-type {\n",
       "        vertical-align: middle;\n",
       "    }\n",
       "\n",
       "    .dataframe tbody tr th {\n",
       "        vertical-align: top;\n",
       "    }\n",
       "\n",
       "    .dataframe thead th {\n",
       "        text-align: right;\n",
       "    }\n",
       "</style>\n",
       "<table border=\"1\" class=\"dataframe\">\n",
       "  <thead>\n",
       "    <tr style=\"text-align: right;\">\n",
       "      <th></th>\n",
       "      <th>datetime</th>\n",
       "      <th>user_ip</th>\n",
       "      <th>user_id</th>\n",
       "      <th>user_country_code</th>\n",
       "      <th>user_device_type</th>\n",
       "      <th>user_device_language</th>\n",
       "      <th>user_device_os</th>\n",
       "      <th>site_domain</th>\n",
       "      <th>site_page</th>\n",
       "      <th>site_ref</th>\n",
       "      <th>floor</th>\n",
       "      <th>price</th>\n",
       "      <th>is_win</th>\n",
       "    </tr>\n",
       "  </thead>\n",
       "  <tbody>\n",
       "    <tr>\n",
       "      <th>0</th>\n",
       "      <td>2020-11-30 18:41:48</td>\n",
       "      <td>37.162.29.144</td>\n",
       "      <td>ka2rXU5cIb7c</td>\n",
       "      <td>ITA</td>\n",
       "      <td>4</td>\n",
       "      <td>it</td>\n",
       "      <td>Android</td>\n",
       "      <td>napoli.zon.it</td>\n",
       "      <td>https://napoli.zon.it/eredita-maradona-donero-...</td>\n",
       "      <td>http://m.facebook.com/</td>\n",
       "      <td>0.181539</td>\n",
       "      <td>0.272309</td>\n",
       "      <td>1</td>\n",
       "    </tr>\n",
       "    <tr>\n",
       "      <th>1</th>\n",
       "      <td>2020-11-30 18:41:48</td>\n",
       "      <td>37.163.56.102</td>\n",
       "      <td>jbf1Tx5J30Fb</td>\n",
       "      <td>ITA</td>\n",
       "      <td>4</td>\n",
       "      <td>it</td>\n",
       "      <td>Android</td>\n",
       "      <td>billoccino.com</td>\n",
       "      <td>https://www.billoccino.com/bill-gates-dopo-il-...</td>\n",
       "      <td>http://m.facebook.com/</td>\n",
       "      <td>0.352577</td>\n",
       "      <td>0.423092</td>\n",
       "      <td>1</td>\n",
       "    </tr>\n",
       "    <tr>\n",
       "      <th>2</th>\n",
       "      <td>2020-11-30 18:41:48</td>\n",
       "      <td>151.68.60.46</td>\n",
       "      <td>j87hqWFNPouc</td>\n",
       "      <td>ITA</td>\n",
       "      <td>4</td>\n",
       "      <td>it</td>\n",
       "      <td>Android</td>\n",
       "      <td>freedsound.net</td>\n",
       "      <td>https://freedsound.net/it/</td>\n",
       "      <td>https://www.google.com/</td>\n",
       "      <td>0.126633</td>\n",
       "      <td>0.189949</td>\n",
       "      <td>1</td>\n",
       "    </tr>\n",
       "    <tr>\n",
       "      <th>3</th>\n",
       "      <td>2020-11-30 18:41:48</td>\n",
       "      <td>95.249.118.85</td>\n",
       "      <td>k2oJLHERRX5c</td>\n",
       "      <td>ITA</td>\n",
       "      <td>4</td>\n",
       "      <td>it</td>\n",
       "      <td>Android</td>\n",
       "      <td>boardingmoms.com</td>\n",
       "      <td>https://boardingmoms.com/disappearing-into-fat...</td>\n",
       "      <td>http://m.facebook.com/</td>\n",
       "      <td>0.032824</td>\n",
       "      <td>0.039389</td>\n",
       "      <td>1</td>\n",
       "    </tr>\n",
       "    <tr>\n",
       "      <th>4</th>\n",
       "      <td>2020-11-30 18:41:48</td>\n",
       "      <td>79.42.244.127</td>\n",
       "      <td>kauBcU8n8IFa</td>\n",
       "      <td>ITA</td>\n",
       "      <td>4</td>\n",
       "      <td>it</td>\n",
       "      <td>Android</td>\n",
       "      <td>filosofiaspicciola.it</td>\n",
       "      <td>https://www.filosofiaspicciola.it/segni-zodiac...</td>\n",
       "      <td>http://m.facebook.com/</td>\n",
       "      <td>0.068230</td>\n",
       "      <td>0.075053</td>\n",
       "      <td>0</td>\n",
       "    </tr>\n",
       "  </tbody>\n",
       "</table>\n",
       "</div>"
      ],
      "text/plain": [
       "              datetime        user_ip       user_id user_country_code  \\\n",
       "0  2020-11-30 18:41:48  37.162.29.144  ka2rXU5cIb7c               ITA   \n",
       "1  2020-11-30 18:41:48  37.163.56.102  jbf1Tx5J30Fb               ITA   \n",
       "2  2020-11-30 18:41:48   151.68.60.46  j87hqWFNPouc               ITA   \n",
       "3  2020-11-30 18:41:48  95.249.118.85  k2oJLHERRX5c               ITA   \n",
       "4  2020-11-30 18:41:48  79.42.244.127  kauBcU8n8IFa               ITA   \n",
       "\n",
       "   user_device_type user_device_language user_device_os  \\\n",
       "0                 4                   it        Android   \n",
       "1                 4                   it        Android   \n",
       "2                 4                   it        Android   \n",
       "3                 4                   it        Android   \n",
       "4                 4                   it        Android   \n",
       "\n",
       "             site_domain                                          site_page  \\\n",
       "0          napoli.zon.it  https://napoli.zon.it/eredita-maradona-donero-...   \n",
       "1         billoccino.com  https://www.billoccino.com/bill-gates-dopo-il-...   \n",
       "2         freedsound.net                         https://freedsound.net/it/   \n",
       "3       boardingmoms.com  https://boardingmoms.com/disappearing-into-fat...   \n",
       "4  filosofiaspicciola.it  https://www.filosofiaspicciola.it/segni-zodiac...   \n",
       "\n",
       "                  site_ref     floor     price  is_win  \n",
       "0   http://m.facebook.com/  0.181539  0.272309       1  \n",
       "1   http://m.facebook.com/  0.352577  0.423092       1  \n",
       "2  https://www.google.com/  0.126633  0.189949       1  \n",
       "3   http://m.facebook.com/  0.032824  0.039389       1  \n",
       "4   http://m.facebook.com/  0.068230  0.075053       0  "
      ]
     },
     "execution_count": 4,
     "metadata": {},
     "output_type": "execute_result"
    }
   ],
   "source": [
    "df.head(5)"
   ]
  },
  {
   "cell_type": "code",
   "execution_count": 5,
   "metadata": {},
   "outputs": [
    {
     "data": {
      "text/plain": [
       "datetime                    0\n",
       "user_ip                     0\n",
       "user_id                 73007\n",
       "user_country_code           0\n",
       "user_device_type            0\n",
       "user_device_language        0\n",
       "user_device_os              0\n",
       "site_domain                 0\n",
       "site_page               48134\n",
       "site_ref                92163\n",
       "floor                       0\n",
       "price                       0\n",
       "is_win                      0\n",
       "dtype: int64"
      ]
     },
     "execution_count": 5,
     "metadata": {},
     "output_type": "execute_result"
    }
   ],
   "source": [
    "df.isna().sum()"
   ]
  },
  {
   "cell_type": "markdown",
   "metadata": {},
   "source": [
    "В таблице 1 000 000 значений, часть столбцов имеют пустые значения."
   ]
  },
  {
   "cell_type": "markdown",
   "metadata": {},
   "source": [
    "# 2. Поле datetime"
   ]
  },
  {
   "cell_type": "code",
   "execution_count": 6,
   "metadata": {},
   "outputs": [],
   "source": [
    "df['datetime'] = pd.to_datetime(df['datetime'])"
   ]
  },
  {
   "cell_type": "code",
   "execution_count": 7,
   "metadata": {},
   "outputs": [
    {
     "data": {
      "text/plain": [
       "30    1000000\n",
       "Name: datetime, dtype: int64"
      ]
     },
     "execution_count": 7,
     "metadata": {},
     "output_type": "execute_result"
    }
   ],
   "source": [
    "df['datetime'].dt.day.value_counts()"
   ]
  },
  {
   "cell_type": "code",
   "execution_count": 8,
   "metadata": {},
   "outputs": [
    {
     "data": {
      "text/plain": [
       "19    88866\n",
       "16    80904\n",
       "12    77327\n",
       "14    76368\n",
       "15    73423\n",
       "21    73383\n",
       "18    60173\n",
       "17    52454\n",
       "11    47931\n",
       "20    46364\n",
       "22    45694\n",
       "10    44950\n",
       "7     39934\n",
       "8     39212\n",
       "9     38101\n",
       "6     29115\n",
       "0     21607\n",
       "5     16777\n",
       "13    15947\n",
       "1     10320\n",
       "4      8479\n",
       "2      6625\n",
       "3      6046\n",
       "Name: datetime, dtype: int64"
      ]
     },
     "execution_count": 8,
     "metadata": {},
     "output_type": "execute_result"
    }
   ],
   "source": [
    "df['datetime'].dt.hour.value_counts()"
   ]
  },
  {
   "cell_type": "markdown",
   "metadata": {},
   "source": [
    "Поскольку все данные собраны в один и тот же день, всё кроме часа, минуты и секунды можно отбросить. Часы, минуты и секунды можно записать в три новых столбца либо в один стобец \"часы\", добавив к нему минуты и секуды как доли от часа"
   ]
  },
  {
   "cell_type": "markdown",
   "metadata": {},
   "source": [
    "# 3. Поля user_ip и user_id"
   ]
  },
  {
   "cell_type": "code",
   "execution_count": 64,
   "metadata": {},
   "outputs": [
    {
     "data": {
      "text/plain": [
       "user_ip          user_id     \n",
       "109.117.199.128  k8oT54xMNRXm    108\n",
       "109.118.82.181   jb3Xh3MV2bTe    103\n",
       "                 k4jiaVw4w6t9      3\n",
       "                 k8hLStpisFH2      1\n",
       "146.241.160.91   kau4ALdIuX7b      5\n",
       "                 kauaNUrzY425      1\n",
       "                 kaukPnRBxE25      2\n",
       "                 kauvENWV3607    137\n",
       "151.32.222.43    kad6voDi2GMg    114\n",
       "151.36.47.162    i6er7sE8JCic    155\n",
       "151.38.87.176    i6er7sE8JCic    242\n",
       "                 k35XsG5A2qIb      1\n",
       "                 k86PKOdxaae6      1\n",
       "151.49.183.205   katTG4zLT13a    154\n",
       "151.56.56.69     k7koWUsEGVqe    175\n",
       "151.57.143.244   k93HqBSnxU1d    102\n",
       "151.57.158.172   k93HqBSnxU1d    135\n",
       "151.57.223.124   k93HqBSnxU1d    263\n",
       "151.62.41.30     k12KA4oD52m0    123\n",
       "                 k6ghj8m7Tspk     11\n",
       "                 kauo7nVeQWK5     29\n",
       "151.68.248.151   k8pf4Y11HrI4    148\n",
       "                 katMYgN3_hBn     24\n",
       "                 katdItoAjnon     16\n",
       "151.74.154.19    ib5qqSQBRKP9    143\n",
       "176.201.84.103   kahhtON0_hce    107\n",
       "176.206.44.135   kaaVKX8NSVh9    232\n",
       "2.36.87.104      k6nItu8DqIwl     51\n",
       "                 kapIXuyjBmDl    108\n",
       "2.36.91.164      i6cdvXKOZfvc    196\n",
       "2.39.30.80       k8bXVC01Zn90     15\n",
       "                 katUJKpy4Zn7     66\n",
       "                 kauoqXXF5z63    161\n",
       "2.44.108.112     kanHbIuroIW2    112\n",
       "2.44.136.250     karOPDZDZcH5     37\n",
       "                 katkgybxWYC9     65\n",
       "2.44.139.4       k61jMWmJoMl1    116\n",
       "                 k7smglZsauV9      2\n",
       "                 katLNJmlzWWn      2\n",
       "2.44.229.12      j25xcYl7gbFm    111\n",
       "37.161.64.25     ka5VZDTmL6A4    112\n",
       "37.77.114.145    k7p6EpEB0yVd      1\n",
       "                 kahpY3EvgcRc      4\n",
       "                 kaq2MisRXGO2    172\n",
       "                 kar6In18qQx4      1\n",
       "5.102.8.120      jbfmIX4PlRR8      1\n",
       "                 jbru0N15yFda    104\n",
       "                 ka1Sdqqhd9Nm      1\n",
       "5.170.22.131     k6syVKrY7hB1    104\n",
       "                 k7vqGB3r2xrm      1\n",
       "dtype: int64"
      ]
     },
     "execution_count": 64,
     "metadata": {},
     "output_type": "execute_result"
    }
   ],
   "source": [
    "df[df['user_ip'].isin(df.groupby(['user_ip']).size().sort_values(ascending=False).head(50).index)].groupby(['user_ip','user_id']).size().head(50)"
   ]
  },
  {
   "cell_type": "code",
   "execution_count": 67,
   "metadata": {},
   "outputs": [
    {
     "data": {
      "text/plain": [
       "1.0461394798505905"
      ]
     },
     "execution_count": 67,
     "metadata": {},
     "output_type": "execute_result"
    }
   ],
   "source": [
    "df['user_id'].value_counts().shape[0]/df['user_ip'].value_counts().shape[0]"
   ]
  },
  {
   "cell_type": "markdown",
   "metadata": {},
   "source": [
    "Столбцы user_ip и user_id по большей части дублируют друг друга, но на каждый user_ip может приходиться несколько user_id. Поскольку столбец user_ip не может однозначно идентифицировать пользователя, он может быть отброшен.\n",
    "\n",
    "Незначительная часть значений user_id отсутствуют (незарегистрированные пользователи?)"
   ]
  },
  {
   "cell_type": "markdown",
   "metadata": {},
   "source": [
    "# 4. Поля user_country_code и user_device_language"
   ]
  },
  {
   "cell_type": "code",
   "execution_count": 68,
   "metadata": {},
   "outputs": [
    {
     "data": {
      "text/plain": [
       "ITA    1000000\n",
       "Name: user_country_code, dtype: int64"
      ]
     },
     "execution_count": 68,
     "metadata": {},
     "output_type": "execute_result"
    }
   ],
   "source": [
    "df[\"user_country_code\"].value_counts()"
   ]
  },
  {
   "cell_type": "code",
   "execution_count": 19,
   "metadata": {},
   "outputs": [
    {
     "data": {
      "text/plain": [
       "it    1000000\n",
       "Name: user_device_language, dtype: int64"
      ]
     },
     "execution_count": 19,
     "metadata": {},
     "output_type": "execute_result"
    }
   ],
   "source": [
    "df['user_device_language'].value_counts()"
   ]
  },
  {
   "cell_type": "markdown",
   "metadata": {},
   "source": [
    "Поля user_country_code и user_device_language в представленных данных имеют только одно значение. Стоит либо отбросить эти столбцы (поскольку они не могут улучшить качество модели) либо использовать другую выборку данных, в которых будут несколько значений этоих столбцов."
   ]
  },
  {
   "cell_type": "markdown",
   "metadata": {},
   "source": [
    "# 5. Поля user_device_type и user_device_os"
   ]
  },
  {
   "cell_type": "code",
   "execution_count": 24,
   "metadata": {},
   "outputs": [
    {
     "data": {
      "text/plain": [
       "Android             612639\n",
       "iOS                 174341\n",
       "Windows OS          141862\n",
       "Mac OS               32570\n",
       "android              21703\n",
       "windows               6861\n",
       "ios                   4318\n",
       "Other Desktop OS      2804\n",
       "Other Tablet OS       1780\n",
       "mac os                1008\n",
       "Other Mobile OS         80\n",
       "linux                   32\n",
       "windows phone            2\n",
       "Name: user_device_os, dtype: int64"
      ]
     },
     "execution_count": 24,
     "metadata": {},
     "output_type": "execute_result"
    }
   ],
   "source": [
    "df[\"user_device_os\"].value_counts()"
   ]
  },
  {
   "cell_type": "code",
   "execution_count": 71,
   "metadata": {},
   "outputs": [
    {
     "data": {
      "text/plain": [
       "4    801874\n",
       "2    185173\n",
       "5     12283\n",
       "1       669\n",
       "3         1\n",
       "Name: user_device_type, dtype: int64"
      ]
     },
     "execution_count": 71,
     "metadata": {},
     "output_type": "execute_result"
    }
   ],
   "source": [
    "df[\"user_device_type\"].value_counts()"
   ]
  },
  {
   "cell_type": "code",
   "execution_count": null,
   "metadata": {},
   "outputs": [],
   "source": [
    "df[\"user_device_type\"].value_counts()"
   ]
  },
  {
   "cell_type": "code",
   "execution_count": 75,
   "metadata": {},
   "outputs": [
    {
     "data": {
      "text/plain": [
       "user_device_os    user_device_type\n",
       "Android           4                   606052\n",
       "                  5                     6587\n",
       "Mac OS            2                    32570\n",
       "Other Desktop OS  2                     2804\n",
       "Other Mobile OS   4                       80\n",
       "Other Tablet OS   5                     1780\n",
       "Windows OS        2                   141862\n",
       "android           1                      666\n",
       "                  2                       38\n",
       "                  4                    20261\n",
       "                  5                      738\n",
       "iOS               4                   171512\n",
       "                  5                     2829\n",
       "ios               1                        3\n",
       "                  4                     3966\n",
       "                  5                      349\n",
       "linux             2                       31\n",
       "                  3                        1\n",
       "mac os            2                     1007\n",
       "                  4                        1\n",
       "windows           2                     6861\n",
       "windows phone     4                        2\n",
       "dtype: int64"
      ]
     },
     "execution_count": 75,
     "metadata": {},
     "output_type": "execute_result"
    }
   ],
   "source": [
    "df.groupby(['user_device_os','user_device_type']).size()"
   ]
  },
  {
   "cell_type": "markdown",
   "metadata": {},
   "source": [
    "Ни одно из полей не содержит избыточную информацию и в предобработке не нуждается"
   ]
  },
  {
   "cell_type": "markdown",
   "metadata": {},
   "source": [
    "# 6. Поля site_domain, site_page и site_ref"
   ]
  },
  {
   "cell_type": "code",
   "execution_count": 84,
   "metadata": {},
   "outputs": [
    {
     "data": {
      "text/plain": [
       "site_domain\n",
       "01dd5ed4e9912cc9ef8e1d33ff91d99b.safeframe.googlesyndication.com    1\n",
       "ergennaro.itput.info                                                1\n",
       "lesyeuxorange.ruplayers.com                                         1\n",
       "seoulmafia.itget.info                                               1\n",
       "scherzidicoppia.itburn.info                                         1\n",
       "emporiogenova.usmains.com                                           1\n",
       "emamotorsport.ithomes.info                                          1\n",
       "emamotorsport.itburn.info                                           1\n",
       "liricalove.ruplayers.com                                            1\n",
       "lorenzo1999ist.ithomes.info                                         1\n",
       "lorettagracetv.itget.info                                           1\n",
       "edupalla.ruplayers.com                                              1\n",
       "edoardojannone.itget.info                                           1\n",
       "ltposts.info                                                        1\n",
       "lucasalvadori23.itput.info                                          1\n",
       "economiaziendale.net                                                1\n",
       "samfaidamerecreator.ruplayers.com                                   1\n",
       "lupapelomundo.ruplayers.com                                         1\n",
       "e5f9eda8aa497a2e75b75fda5e1fb3b0.safeframe.googlesyndication.com    1\n",
       "twinflamespyrit.ruplayers.com                                       1\n",
       "es-ones.com                                                         1\n",
       "sfizidicalabria.ruplayers.com                                       1\n",
       "esvid.net                                                           1\n",
       "evoluzionebonsai.brdown.net                                         1\n",
       "farabi80.ruplayers.com                                              1\n",
       "fanpagemedia.ruplayers.com                                          1\n",
       "si.titlovi.com                                                      1\n",
       "ladivadeltubo.itload.info                                           1\n",
       "fanpagemedia.itburn.info                                            1\n",
       "fanpagemedia.itblow.info                                            1\n",
       "shqiptarjatv.grpost.info                                            1\n",
       "shabofly.ruplayers.com                                              1\n",
       "lambrenedettoxvi.ruplayers.com                                      1\n",
       "dpclimbing.ruplayers.com                                            1\n",
       "fabwibmer.amburn.info                                               1\n",
       "tst.panet.ma                                                        1\n",
       "fabbbriyeah.itget.info                                              1\n",
       "f981699adfb604c5a1f0a6da2b418ae8.safeframe.googlesyndication.com    1\n",
       "f85bf3c8f9823e6a9f96cae72d87d1fd.safeframe.googlesyndication.com    1\n",
       "f4479ea832c23e94607abfaaa358702a.safeframe.googlesyndication.com    1\n",
       "lapizzafattaincasa.ruplayers.com                                    1\n",
       "tuttoandroid.itburn.info                                            1\n",
       "lasignorabernotto.ruplayers.com                                     1\n",
       "f00882c585a7dd3016f9bc47f5576886.safeframe.googlesyndication.com    1\n",
       "fabry5005.ruplayers.com                                             1\n",
       "dorianbe.itones.info                                                1\n",
       "doreimonde.ruplayers.com                                            1\n",
       "donze93.itmores.info                                                1\n",
       "repubblica.itburn.info                                              1\n",
       "danalabo.ruplayers.com                                              1\n",
       "dtype: int64"
      ]
     },
     "execution_count": 84,
     "metadata": {},
     "output_type": "execute_result"
    }
   ],
   "source": [
    "# df.groupby(['site_domain','site_page']).size().head(50)\n",
    "df.groupby(['site_domain']).size().sort_values(ascending=True).head(50)"
   ]
  },
  {
   "cell_type": "code",
   "execution_count": 142,
   "metadata": {},
   "outputs": [
    {
     "data": {
      "text/plain": [
       "site_domain\n",
       "miglioriaforismifrasibelle.usmains.com    5\n",
       "ua-cam.com                                5\n",
       "benedetta1972.usmains.com                 5\n",
       "xfactoritalia.usmains.com                 5\n",
       "www-mtlnovel-com.cdn.ampproject.org       5\n",
       "ww.tvfun.video                            5\n",
       "santatelevision.ruplayers.com             5\n",
       "eleonorapetrella.itload.info              5\n",
       "socialondon.com                           5\n",
       "enimerwsi.eu                              5\n",
       "ifattinews.it                             5\n",
       "dirittoeconomia.net                       5\n",
       "i2bomber.itmores.info                     4\n",
       "lemiescienze.net                          4\n",
       "smibiechannel.usmains.com                 4\n",
       "newscatania.com                           4\n",
       "hrvid.com                                 4\n",
       "saporitotv.itburn.info                    4\n",
       "gonfialarete.com                          4\n",
       "us7.proxysite.one                         4\n",
       "dtype: int64"
      ]
     },
     "execution_count": 142,
     "metadata": {},
     "output_type": "execute_result"
    }
   ],
   "source": [
    "# df[~df.site_domain.str.contains('^.*safeframe\\.googlesyndication\\.com')].groupby(['site_domain']).size().sort_values(ascending=True).head(50)\n",
    "df.groupby(['site_domain']).size().sort_values(ascending=False).head(500).tail(20)"
   ]
  },
  {
   "cell_type": "code",
   "execution_count": 147,
   "metadata": {},
   "outputs": [
    {
     "data": {
      "text/plain": [
       "site_page\n",
       "https://notiziemaledette.it/news/dpcm-3-dicembre-tamponi-per-vedere-i-parenti-e-divieto-di-spostamenti/                                                                                    52444\n",
       "https://freedsound.net/it/                                                                                                                                                                 35694\n",
       "https://f1ingenerale.com/                                                                                                                                                                  30536\n",
       "https://notiziemaledette.it/news/minuto-di-silenzio-per-maradona-calciatrice-si-rifiuta-di-rispettarlo-era-un-violentatore/                                                                21557\n",
       "https://www.piudonna.it/signorini-nella-bufera-beccate-le-scene-scabrose-interviene-la-vigilanza-hanno-censurato-ma-si-e-visto-tutto-il-gf-va-chiuso-cose-successo/                        16086\n",
       "https://www.comerisparmiosoldi.it/iva-zanicchi-vi-racconto-la-mia-esperienza-con-il-coronavirus/                                                                                           15987\n",
       "https://www.filosofiaspicciola.it/nuovo-dpcm-dicembre-30-11-2020/                                                                                                                          15427\n",
       "https://ognigiornomagazine.net/fabrizio-corona-fedez-e-chiara-ferragni/                                                                                                                    14960\n",
       "https://napoli.zon.it/eredita-maradona-donero-tutti-i-miei-soldi-in-beneficenza/                                                                                                           13742\n",
       "https://brainberries.co/movietv/e-ufficiale-caterina-balivo-lascia-la-rai/                                                                                                                 11140\n",
       "https://www.super-nonni.it/maradona-calciatrice-non-rispetta-il-minuto-di-silenzio-era-un-violentatore/                                                                                    10956\n",
       "https://alphawoman.it/veronica-stile-muore-a-33-anni-giornale-locale-la-saluta-con-un-necrologio-infelice/                                                                                  9906\n",
       "https://ognigiornomagazine.net/tagli-sulla-tredicesima-a-causa-del-covid/                                                                                                                   9301\n",
       "https://napoli.zon.it/natale-nuovo-dpcm-aperture-per-14-giorni-poi-di-nuovo-chiusura/                                                                                                       9086\n",
       "https://notiziemaledette.it/news/ferrara-sulla-scomparsa-di-maradona-sono-distrutto-si-drogava-e-non-riuscivo-a-fermarlo-lui-e-lantieroe/                                                   8015\n",
       "https://www.super-nonni.it/stava-con-flavio-con-me-e-altri-uomini-insieme-elisabetta-gregoraci-la-rivelazione-choc-del-suo-ex/                                                              7810\n",
       "https://www.comerisparmiosoldi.it/ecco-quanto-guadagna-elisabetta-gregoraci-al-grande-fratello-vip/                                                                                         6981\n",
       "https://www.super-nonni.it/lultimo-messaggio-di-maradona-per-il-piccolo-dieguito-abbi-cura-del-mio-angelo/                                                                                  6890\n",
       "https://www.10elotto5.it/estrazioni-10-e-lotto-ogni-5-minuti-di-oggi/                                                                                                                       5720\n",
       "https://www.super-nonni.it/nuovo-dpcm-del-3-dicembre-tampone-per-vedere-i-parenti-e-spostamenti-7-giorni-prima-del-natale/                                                                  5533\n",
       "https://www.soveratoweb.com/spaccio-di-droga-nel-soveratese-la-dda-di-catanzaro-chiede-oltre-due-secoli-di-carcere/                                                                         5181\n",
       "https://www.opensubtitles.org/                                                                                                                                                              5162\n",
       "https://alphawoman.it/era-uno-stupratore-calciatrice-rifiuta-il-minuto-di-silenzio-per-maradona/                                                                                            5007\n",
       "https://www.virgilio.it                                                                                                                                                                     4973\n",
       "https://ilcorsaronero.link/                                                                                                                                                                 4780\n",
       "https://brainberries.co/interesting/8-cose-su-sasha-obama-che-siamo-cosi-gentili-da-condividere-con-te/                                                                                     4477\n",
       "https://www.comerisparmiosoldi.it/coronavirus-scoperto-nuovo-e-stranissimo-sintomo/                                                                                                         4243\n",
       "https://ilcorsaronero.pro/                                                                                                                                                                  4234\n",
       "https://ufoalieni.it/eugene-shoemaker-unico-essere-umano-seppellito-sulla-luna/                                                                                                             3956\n",
       "https://www.comerisparmiosoldi.it/anna-tedesco-il-terribile-lutto/                                                                                                                          3868\n",
       "https://www.comerisparmiosoldi.it/cashback-di-natale-ecco-come-ottenere-rimborso-sulle-spese/                                                                                               3680\n",
       "https://amoreadistanza.com/baciare-qualcuno-errori/                                                                                                                                         3526\n",
       "https://ognigiornomagazine.net/massimo-ranieri-devastato-morte-di-maradona/                                                                                                                 3517\n",
       "https://alphawoman.it/porta-di-nascosto-il-suo-micio-a-lezione-e-lui-resta-tranquillo-sotto-il-banco-tutto-il-tempo/                                                                        3426\n",
       "https://herbeauty.co/it/divertimento/arriva-la-cicogna-da-quali-vip-si-fermera-nel-2020/                                                                                                    3262\n",
       "https://amoreadistanza.com/come-chiudi-il-pugno/                                                                                                                                            3238\n",
       "https://www.comerisparmiosoldi.it/coronavirus-ecco-i-sintomi-spia-per-riconoscerlo-subito/                                                                                                  3166\n",
       "https://www.super-nonni.it/maradona-chiesta-gia-la-riesumazione-un-presunto-figlio-vuole-il-test-del-dna-maradona-chiesta-gia-la-riesumazione-un-presunto-figlio-vuole-il-test-del-dna/     3081\n",
       "https://www.super-nonni.it/lutto-nel-cast-di-gomorra-il-covid-uccide-ancora-le-parole-di-marco-damore/                                                                                      3014\n",
       "https://www.comerisparmiosoldi.it/a-24-anni-si-toglie-la-vita-errore-tragedia-in-una-giovane-famiglia/                                                                                      2975\n",
       "https://www.mtlnovel.com/                                                                                                                                                                   2959\n",
       "https://ognigiornomagazine.net/lorella-cuccarini-alessandra-celentano/                                                                                                                      2896\n",
       "https://ognigiornomagazine.net/selvaggia-lucarelli-commento-su-maradona/                                                                                                                    2780\n",
       "https://www.chydo-svit.top/?p=32721                                                                                                                                                         2736\n",
       "https://f1ingenerale.com/f1-gp-bahrain-analisi-dellincidente-di-grosjean/?amp&tlm                                                                                                           2694\n",
       "https://www.ilriformista-it/                                                                                                                                                                2675\n",
       "https://stileinter.it/mgladbach-inter-la-probabile-conte-fa-unesclusione-inattesa-torna-lukaku/                                                                                             2667\n",
       "https://www.comerisparmiosoldi.it/prodotto-ritirato-dai-supermercati-si-tratta-di-un-olio-cancerogeno/                                                                                      2624\n",
       "https://www.ilcorrieredellacitta-com/                                                                                                                                                       2601\n",
       "https://freedsound.net/it/download-free-mp3/                                                                                                                                                2572\n",
       "dtype: int64"
      ]
     },
     "execution_count": 147,
     "metadata": {},
     "output_type": "execute_result"
    }
   ],
   "source": [
    "df.groupby(['site_page']).size().sort_values(ascending=False).head(50)"
   ]
  },
  {
   "cell_type": "code",
   "execution_count": 148,
   "metadata": {},
   "outputs": [
    {
     "data": {
      "text/plain": [
       "site_ref\n",
       "http://m.facebook.com/                                                                                                                                                                                      327313\n",
       "http://m.facebook.com                                                                                                                                                                                        84129\n",
       "https://www.google.com/                                                                                                                                                                                      71307\n",
       "https://f1ingenerale.com/                                                                                                                                                                                    22935\n",
       "https://pinterest.com/                                                                                                                                                                                       16262\n",
       "https://www.mgid.com/                                                                                                                                                                                        16122\n",
       "https://www.google.it                                                                                                                                                                                        15236\n",
       "twitter.com                                                                                                                                                                                                  12806\n",
       "facebook.com                                                                                                                                                                                                 12767\n",
       "android-app://com.google.android.googlequicksearchbox/                                                                                                                                                       12692\n",
       "t.co                                                                                                                                                                                                         12667\n",
       "https://www.google.it/                                                                                                                                                                                       10291\n",
       "https://l.instagram.com/                                                                                                                                                                                      9516\n",
       "https://www.google.com                                                                                                                                                                                        8550\n",
       "https://f1ingenerale.com                                                                                                                                                                                      7123\n",
       "https://freedsound.net/it/                                                                                                                                                                                    6579\n",
       "https://l.facebook.com/                                                                                                                                                                                       6248\n",
       "https://www.opensubtitles.org/                                                                                                                                                                                5200\n",
       "https://m.facebook.com/                                                                                                                                                                                       4904\n",
       "https://sot.com.al/                                                                                                                                                                                           3938\n",
       "android-app://com.google.android.googlequicksearchbox/https/www.google.com                                                                                                                                    3335\n",
       "android-app://m.facebook.com/                                                                                                                                                                                 3150\n",
       "https://www.mtlnovel.com/                                                                                                                                                                                     2959\n",
       "https://f1ingenerale.com/f1-gp-bahrain-analisi-dellincidente-di-grosjean/?amp&tlm                                                                                                                             2694\n",
       "https://www-ilriformista-it.cdn.ampproject.org                                                                                                                                                                2692\n",
       "https://www-ilcorrieredellacitta-com.cdn.ampproject.org                                                                                                                                                       2601\n",
       "https://www.bing.com/                                                                                                                                                                                         2472\n",
       "https://lm.facebook.com/                                                                                                                                                                                      2350\n",
       "http://col3negoriginal.lk/                                                                                                                                                                                    2129\n",
       "https://www-gossip-it.cdn.ampproject.org                                                                                                                                                                      2064\n",
       "https://www.chydo-svit.top/?p=32721                                                                                                                                                                           1877\n",
       "https://googleads.g.doubleclick.net/                                                                                                                                                                          1867\n",
       "https://altadefinizione.trade/                                                                                                                                                                                1864\n",
       "https://ilcorsaronero.link/cat/1                                                                                                                                                                              1839\n",
       "https://freedsound.net/                                                                                                                                                                                       1826\n",
       "https://m-fcinternews-it.cdn.ampproject.org                                                                                                                                                                   1704\n",
       "https://ilcorsaronero.pro/cat/1                                                                                                                                                                               1676\n",
       "http://pinterest.com/                                                                                                                                                                                         1584\n",
       "https://www.googleapis.com/auth/chrome-content-suggestions                                                                                                                                                    1486\n",
       "https://www-italiasera-it.cdn.ampproject.org                                                                                                                                                                  1335\n",
       "https://kissasian.sh/                                                                                                                                                                                         1163\n",
       "https://www-ilriformista-it.cdn.ampproject.org/v/s/www.ilriformista.it/gli-ultimi-giorni-di-maradona-tra-litigi-botte-e-te-con-biscotti-ingestibile-non-voleva-vedere-le-figlie-179445/amp/?amp_js_v=0.1      1154\n",
       "https://alphawoman.it/veronica-stile-muore-a-33-anni-giornale-locale-la-saluta-con-un-necrologio-infelice/                                                                                                    1153\n",
       "https://www.pinterest.it/                                                                                                                                                                                     1083\n",
       "https://www.10elotto5.it/10-e-lotto-ogni-5-minuti-estrazioni-in-diretta/                                                                                                                                      1059\n",
       "https://www.pinterest.com                                                                                                                                                                                     1038\n",
       "https://www-motorbox-com.cdn.ampproject.org                                                                                                                                                                   1002\n",
       "https://stayonline.pro/                                                                                                                                                                                        996\n",
       "https://alphawoman.it/era-uno-stupratore-calciatrice-rifiuta-il-minuto-di-silenzio-per-maradona/                                                                                                               984\n",
       "http://www.google.com/                                                                                                                                                                                         967\n",
       "dtype: int64"
      ]
     },
     "execution_count": 148,
     "metadata": {},
     "output_type": "execute_result"
    }
   ],
   "source": [
    "df.groupby(['site_ref']).size().sort_values(ascending=False).head(50)"
   ]
  },
  {
   "cell_type": "markdown",
   "metadata": {},
   "source": [
    "В поле site_domain есть записи вида f4479ea832c23e94607abfaaa358702a.safeframe.googlesyndication.com или\n",
    "lapizzafattaincasa.ruplayers.com. Они не отражают конкретный домен, но их количество незначительно и ими можно пренебречь.\n",
    "\n",
    "В поле site_ref есть незначительно различающиеся записи, относящиеся к одной и той же ссылке (например http://m.facebook.com/ и http://m.facebook.com)\n",
    "Их можно привести к одному виду\n"
   ]
  }
 ],
 "metadata": {
  "kernelspec": {
   "display_name": "Python 3",
   "language": "python",
   "name": "python3"
  },
  "language_info": {
   "codemirror_mode": {
    "name": "ipython",
    "version": 3
   },
   "file_extension": ".py",
   "mimetype": "text/x-python",
   "name": "python",
   "nbconvert_exporter": "python",
   "pygments_lexer": "ipython3",
   "version": "3.8.6"
  }
 },
 "nbformat": 4,
 "nbformat_minor": 4
}
